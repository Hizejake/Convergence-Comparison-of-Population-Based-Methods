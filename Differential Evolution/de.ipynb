{
 "cells": [
  {
   "cell_type": "code",
   "execution_count": 1,
   "metadata": {},
   "outputs": [],
   "source": [
    "import numpy as np\n",
    "import random"
   ]
  },
  {
   "cell_type": "code",
   "execution_count": 2,
   "metadata": {},
   "outputs": [],
   "source": [
    "def rastrigin(X):\n",
    "    if isinstance(X[0], (int, float)):\n",
    "        X = [[X[i]] for i in range(len(X))]\n",
    "    \n",
    "    val = []\n",
    "    for xi in X:\n",
    "        fx = 10 * len(xi) + sum(np.array(xi) ** 2 - 10 * np.cos(2 * np.pi * np.array(xi)))\n",
    "        val.append(fx)\n",
    "    return np.array(val)\n",
    "\n",
    "def sphere(X):\n",
    "    if isinstance(X[0],(int,float)):\n",
    "        X = [[X[i]] for i in range(len(X))]\n",
    "    \n",
    "    val = []\n",
    "    for xi in X:\n",
    "        fx = sum(np.array(xi) ** 2)\n",
    "        val.append(fx)\n",
    "    return np.array(val)\n",
    "\n",
    "def rosenbrock(X):\n",
    "    if isinstance(X[0],(int,float)):\n",
    "        X = [[X[i]] for i in range(len(X))]\n",
    "    \n",
    "    val = []\n",
    "    for xi in X:\n",
    "        fx = sum(100 * (np.array(xi[1:]) - np.array(xi[:-1]) ** 2) ** 2 + (1 - np.array(xi[:-1])) ** 2)\n",
    "        val.append(fx)\n",
    "    return np.array(val)\n",
    "\n",
    "\n",
    "def ackley(X):\n",
    "    if isinstance(X[0],(int,float)):\n",
    "        X = [[X[i]] for i in range(len(X))]\n",
    "    \n",
    "    val = []\n",
    "    for xi in X:\n",
    "        fx = -20 * np.exp(-0.2 * np.sqrt(sum(np.array(xi) ** 2) / len(xi))) - np.exp(sum(np.cos(2 * np.pi * np.array(xi))) / len(xi)) + 20 + np.exp(1)\n",
    "        val.append(fx)\n",
    "    return np.array(val)"
   ]
  },
  {
   "cell_type": "code",
   "execution_count": 3,
   "metadata": {},
   "outputs": [],
   "source": [
    "def generate_target(num_variables,population_size,x_min,x_max):\n",
    "    return np.random.uniform(x_min,x_max,(population_size,num_variables))   "
   ]
  },
  {
   "cell_type": "code",
   "execution_count": 4,
   "metadata": {},
   "outputs": [],
   "source": [
    "def diff_evol(num_iterations, population_size, num_variables, x_min, x_max, scale_factor, crossover_probability,function= rastrigin):\n",
    "    target = generate_target(num_variables, population_size, x_min, x_max)\n",
    "    trial = np.zeros_like(target)\n",
    "    \n",
    "    for i in range(num_iterations):\n",
    "        mutant = np.clip(np.array([random.sample(list(target), 3)[0] + scale_factor * (random.sample(list(target), 3)[1] - (random.sample(list(target), 3)[2])) for _ in range(population_size)]), x_min, x_max)\n",
    "        \n",
    "        for j in range(population_size):  \n",
    "            I_rand = np.random.randint(0, num_variables)\n",
    "            for k in range(num_variables):  \n",
    "                if np.random.uniform(0, 1) <= crossover_probability or k == I_rand:\n",
    "                    trial[j, k] = mutant[j, k]\n",
    "                else:\n",
    "                    trial[j, k] = target[j, k]\n",
    "        \n",
    "        target_dict = {tuple(target[i]): function(target)[i] for i in range(population_size)}\n",
    "        trial_dict = {tuple(trial[i]): function(trial)[i] for i in range(population_size)}\n",
    "        \n",
    "        target_dict.update(trial_dict)\n",
    "        items = target_dict.items()\n",
    "        items = sorted(items, key=lambda x: x[1])\n",
    "        new_target = [np.array(item[0]) for item in items[:population_size]]\n",
    "        \n",
    "        target = np.array(new_target)\n",
    "    \n",
    "    return target[0]"
   ]
  },
  {
   "cell_type": "code",
   "execution_count": 11,
   "metadata": {},
   "outputs": [
    {
     "name": "stdout",
     "output_type": "stream",
     "text": [
      "Testing Differential Evolution with function: rastrigin\n",
      "Best solution: [9.25688223e-10 5.08266979e-10]\n",
      "Function value: [0.]\n",
      "\n",
      "Testing Differential Evolution with function: sphere\n",
      "Best solution: [ 2.23285558e-25 -1.73256573e-24]\n",
      "Function value: [3.05164045e-48]\n",
      "\n",
      "Testing Differential Evolution with function: rosenbrock\n",
      "Best solution: [1. 1.]\n",
      "Function value: [0.]\n",
      "\n",
      "Testing Differential Evolution with function: ackley\n",
      "Best solution: [-9.31411575e-17 -2.38160702e-16]\n",
      "Function value: [4.4408921e-16]\n",
      "\n"
     ]
    }
   ],
   "source": [
    "# Define the functions to test\n",
    "functions = [rastrigin, sphere, rosenbrock, ackley]\n",
    "\n",
    "# Test diff_evol for all functions\n",
    "num_iterations = 200\n",
    "population_size = 100\n",
    "num_variables = 2\n",
    "x_min = -5\n",
    "x_max = 5\n",
    "scale_factor = 0.8\n",
    "crossover_probability = 0.9\n",
    "\n",
    "for func in functions:\n",
    "    print(f\"Testing Differential Evolution with function: {func.__name__}\")\n",
    "    best_solution = diff_evol(num_iterations, population_size, num_variables, x_min, x_max, scale_factor, crossover_probability, function=func)\n",
    "    best_value = func([best_solution])\n",
    "    print(f\"Best solution: {best_solution}\\nFunction value: {best_value}\\n\")"
   ]
  }
 ],
 "metadata": {
  "kernelspec": {
   "display_name": "base",
   "language": "python",
   "name": "python3"
  },
  "language_info": {
   "codemirror_mode": {
    "name": "ipython",
    "version": 3
   },
   "file_extension": ".py",
   "mimetype": "text/x-python",
   "name": "python",
   "nbconvert_exporter": "python",
   "pygments_lexer": "ipython3",
   "version": "3.12.4"
  }
 },
 "nbformat": 4,
 "nbformat_minor": 2
}
